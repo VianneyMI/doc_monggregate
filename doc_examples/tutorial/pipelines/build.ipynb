{
 "cells": [
  {
   "cell_type": "markdown",
   "metadata": {},
   "source": [
    "## Building a pipeline"
   ]
  },
  {
   "cell_type": "code",
   "execution_count": 1,
   "metadata": {},
   "outputs": [
    {
     "data": {
      "text/plain": [
       "Pipeline(collection=None, stages=[Match(query={'title': 'A Star Is Born'}, expression=None)])"
      ]
     },
     "execution_count": 1,
     "metadata": {},
     "output_type": "execute_result"
    }
   ],
   "source": [
    "from monggregate import Pipeline\n",
    "\n",
    "pipeline = Pipeline()\n",
    "\n",
    "pipeline.match(title=\"A Star Is Born\")"
   ]
  },
  {
   "cell_type": "code",
   "execution_count": 2,
   "metadata": {},
   "outputs": [
    {
     "data": {
      "text/plain": [
       "Pipeline(collection=None, stages=[Match(query={'title': 'A Star Is Born'}, expression=None), Sort(descending=None, ascending=True, by=['year'], query={'year': 1}), Limit(value=1)])"
      ]
     },
     "execution_count": 2,
     "metadata": {},
     "output_type": "execute_result"
    }
   ],
   "source": [
    "from monggregate import Pipeline\n",
    "\n",
    "pipeline = Pipeline()\n",
    "\n",
    "# The below pipeline will return (when executed) \n",
    "# the most recent movie with the title \"A Star is Born\"\n",
    "pipeline.match(\n",
    "    title=\"A Star Is Born\"\n",
    ").sort(\n",
    "    by=\"year\"\n",
    ").limit(\n",
    "    value=1\n",
    ")"
   ]
  }
 ],
 "metadata": {
  "kernelspec": {
   "display_name": "venv",
   "language": "python",
   "name": "python3"
  },
  "language_info": {
   "codemirror_mode": {
    "name": "ipython",
    "version": 3
   },
   "file_extension": ".py",
   "mimetype": "text/x-python",
   "name": "python",
   "nbconvert_exporter": "python",
   "pygments_lexer": "ipython3",
   "version": "3.11.1"
  }
 },
 "nbformat": 4,
 "nbformat_minor": 2
}
