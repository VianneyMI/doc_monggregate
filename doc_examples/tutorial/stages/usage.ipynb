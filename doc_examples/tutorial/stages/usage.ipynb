{
 "cells": [
  {
   "cell_type": "markdown",
   "metadata": {},
   "source": [
    "## Usage"
   ]
  },
  {
   "cell_type": "code",
   "execution_count": 1,
   "metadata": {},
   "outputs": [],
   "source": [
    "from monggregate import Pipeline"
   ]
  },
  {
   "cell_type": "code",
   "execution_count": 2,
   "metadata": {},
   "outputs": [
    {
     "data": {
      "text/plain": [
       "Pipeline(collection=None, stages=[Group(by='$year', query={'movie_count': {'$sum': 1}, 'movie_titles': {'$push': '$title'}, '_id': '$year'})])"
      ]
     },
     "execution_count": 2,
     "metadata": {},
     "output_type": "execute_result"
    }
   ],
   "source": [
    "pipeline = Pipeline()\n",
    "\n",
    "pipeline.group(\n",
    "    by=\"year\",\n",
    "    query={\n",
    "        \"movie_count\": {\"$sum\": 1},\n",
    "        \"movie_titles\": {\"$push\": \"$title\"}\n",
    "    }\n",
    ")"
   ]
  },
  {
   "cell_type": "code",
   "execution_count": 3,
   "metadata": {},
   "outputs": [
    {
     "data": {
      "text/plain": [
       "Pipeline(collection=None, stages=[Lookup(right='comments', on=None, left_on='_id', right_on='movie_id', name='related_comments', let=None, pipeline=None, type_=<LookupTypeEnum.SIMPLE: 'simple'>)])"
      ]
     },
     "execution_count": 3,
     "metadata": {},
     "output_type": "execute_result"
    }
   ],
   "source": [
    "pipeline = Pipeline()\n",
    "pipeline.lookup(\n",
    "    right = \"comments\", # collection to join\n",
    "    left_on = \"_id\",  # primary key\n",
    "    right_on = \"movie_id\", # foreign key\n",
    "    # name of the field that will contain the matching documents\n",
    "    name = \"related_comments\" \n",
    ")"
   ]
  },
  {
   "cell_type": "code",
   "execution_count": 5,
   "metadata": {},
   "outputs": [
    {
     "data": {
      "text/plain": [
       "Pipeline(collection=None, stages=[Lookup(right='comments', on=None, left_on='_id', right_on='movie_id', name='related_comments', let=None, pipeline=None, type_=<LookupTypeEnum.SIMPLE: 'simple'>), Sort(descending=None, ascending=True, by=['movie_count'], query={'movie_count': 1}), Limit(value=10)])"
      ]
     },
     "execution_count": 5,
     "metadata": {},
     "output_type": "execute_result"
    }
   ],
   "source": [
    "pipeline = Pipeline()\n",
    "pipeline.lookup(\n",
    "    right = \"comments\", \n",
    "    left_on = \"_id\", \n",
    "    right_on = \"movie_id\",\n",
    "    name = \"related_comments\" \n",
    ").sort(\n",
    "    by=\"movie_count\"\n",
    ").limit(\n",
    "    10\n",
    ")"
   ]
  }
 ],
 "metadata": {
  "kernelspec": {
   "display_name": "venv",
   "language": "python",
   "name": "python3"
  },
  "language_info": {
   "codemirror_mode": {
    "name": "ipython",
    "version": 3
   },
   "file_extension": ".py",
   "mimetype": "text/x-python",
   "name": "python",
   "nbconvert_exporter": "python",
   "pygments_lexer": "ipython3",
   "version": "3.11.1"
  }
 },
 "nbformat": 4,
 "nbformat_minor": 2
}
